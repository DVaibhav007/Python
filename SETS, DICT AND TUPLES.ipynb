{
 "cells": [
  {
   "cell_type": "markdown",
   "id": "a64a7263",
   "metadata": {},
   "source": [
    "# SETS"
   ]
  },
  {
   "cell_type": "code",
   "execution_count": null,
   "id": "8519ad59",
   "metadata": {},
   "outputs": [],
   "source": [
    "-Mutable\n",
    "-Unordered Collection Data Type\n",
    "-Has No Duplicate Elements\n",
    "-Based on Hash Table\n",
    "-Does not Support Indexing"
   ]
  },
  {
   "cell_type": "code",
   "execution_count": 1,
   "id": "d48c1e03",
   "metadata": {},
   "outputs": [],
   "source": [
    "#empty sets\n",
    "\n",
    "set_var = set()"
   ]
  },
  {
   "cell_type": "code",
   "execution_count": 2,
   "id": "4270feb0",
   "metadata": {},
   "outputs": [
    {
     "data": {
      "text/plain": [
       "set"
      ]
     },
     "execution_count": 2,
     "metadata": {},
     "output_type": "execute_result"
    }
   ],
   "source": [
    "type(set_var)"
   ]
  },
  {
   "cell_type": "code",
   "execution_count": 3,
   "id": "d5573cae",
   "metadata": {},
   "outputs": [],
   "source": [
    "set_var = {1,2,3,4,4,6,5,1}"
   ]
  },
  {
   "cell_type": "code",
   "execution_count": 4,
   "id": "553dbb5a",
   "metadata": {},
   "outputs": [
    {
     "name": "stdout",
     "output_type": "stream",
     "text": [
      "{1, 2, 3, 4, 5, 6}\n"
     ]
    }
   ],
   "source": [
    "print(set_var) #Duplicates are removed"
   ]
  },
  {
   "cell_type": "code",
   "execution_count": 8,
   "id": "ccec806e",
   "metadata": {},
   "outputs": [],
   "source": [
    "#Inbuilt Functions in sets\n",
    "\n",
    "set_var.add('Vaibhav')"
   ]
  },
  {
   "cell_type": "code",
   "execution_count": 6,
   "id": "efe22b47",
   "metadata": {},
   "outputs": [
    {
     "name": "stdout",
     "output_type": "stream",
     "text": [
      "{'Vaibhav', 1, 2, 3, 4, 5, 6}\n"
     ]
    }
   ],
   "source": [
    "print(set_var)"
   ]
  },
  {
   "cell_type": "code",
   "execution_count": 9,
   "id": "d5599927",
   "metadata": {},
   "outputs": [],
   "source": [
    "set1 = {'vaibhav','Gaurav','Chinmay'}\n",
    "set2 = {'vaibhav','Gaurav','Chinmay','Saurabh'}"
   ]
  },
  {
   "cell_type": "code",
   "execution_count": 10,
   "id": "0d233158",
   "metadata": {},
   "outputs": [
    {
     "data": {
      "text/plain": [
       "{'Saurabh'}"
      ]
     },
     "execution_count": 10,
     "metadata": {},
     "output_type": "execute_result"
    }
   ],
   "source": [
    "set2.difference(set1) # Returns Different Elements"
   ]
  },
  {
   "cell_type": "code",
   "execution_count": 11,
   "id": "94bf815f",
   "metadata": {},
   "outputs": [
    {
     "data": {
      "text/plain": [
       "set()"
      ]
     },
     "execution_count": 11,
     "metadata": {},
     "output_type": "execute_result"
    }
   ],
   "source": [
    "set1.difference(set2) #it will gives empty set"
   ]
  },
  {
   "cell_type": "code",
   "execution_count": 12,
   "id": "7ff7e2de",
   "metadata": {},
   "outputs": [
    {
     "data": {
      "text/plain": [
       "{'Chinmay', 'Gaurav', 'vaibhav'}"
      ]
     },
     "execution_count": 12,
     "metadata": {},
     "output_type": "execute_result"
    }
   ],
   "source": [
    "set2.intersection(set1) # Returns Common Elements"
   ]
  },
  {
   "cell_type": "code",
   "execution_count": 13,
   "id": "aaf5f62d",
   "metadata": {},
   "outputs": [],
   "source": [
    "set2.difference_update(set1)"
   ]
  },
  {
   "cell_type": "code",
   "execution_count": 14,
   "id": "ad849299",
   "metadata": {},
   "outputs": [
    {
     "data": {
      "text/plain": [
       "{'Saurabh'}"
      ]
     },
     "execution_count": 14,
     "metadata": {},
     "output_type": "execute_result"
    }
   ],
   "source": [
    "set2 #updated "
   ]
  },
  {
   "cell_type": "markdown",
   "id": "02ffe97d",
   "metadata": {},
   "source": [
    "# DICTIONARIES"
   ]
  },
  {
   "cell_type": "code",
   "execution_count": null,
   "id": "7f4b4ab5",
   "metadata": {},
   "outputs": [],
   "source": [
    "-Unoredred Collection data\n",
    "-Changeable (Mutable)\n",
    "-Indexed\n",
    "-{keys:values}"
   ]
  },
  {
   "cell_type": "code",
   "execution_count": 15,
   "id": "c8c20795",
   "metadata": {},
   "outputs": [],
   "source": [
    "my_dict = {'car1':'Audi','car2':'BMW','car3':'Merc'}"
   ]
  },
  {
   "cell_type": "code",
   "execution_count": 16,
   "id": "20bf9d78",
   "metadata": {},
   "outputs": [
    {
     "name": "stdout",
     "output_type": "stream",
     "text": [
      "{'car1': 'Audi', 'car2': 'BMW', 'car3': 'Merc'}\n"
     ]
    }
   ],
   "source": [
    "print(my_dict)"
   ]
  },
  {
   "cell_type": "code",
   "execution_count": 17,
   "id": "f5a9c373",
   "metadata": {},
   "outputs": [
    {
     "data": {
      "text/plain": [
       "dict"
      ]
     },
     "execution_count": 17,
     "metadata": {},
     "output_type": "execute_result"
    }
   ],
   "source": [
    "type((my_dict))"
   ]
  },
  {
   "cell_type": "code",
   "execution_count": 18,
   "id": "539b7871",
   "metadata": {},
   "outputs": [
    {
     "data": {
      "text/plain": [
       "'Audi'"
      ]
     },
     "execution_count": 18,
     "metadata": {},
     "output_type": "execute_result"
    }
   ],
   "source": [
    "my_dict['car1']"
   ]
  },
  {
   "cell_type": "code",
   "execution_count": 21,
   "id": "2d3d7879",
   "metadata": {},
   "outputs": [
    {
     "name": "stdout",
     "output_type": "stream",
     "text": [
      "car1\n",
      "car2\n",
      "car3\n"
     ]
    }
   ],
   "source": [
    "#We can loop thruogh the dict keys\n",
    "\n",
    "for x in my_dict:\n",
    "    print(x)"
   ]
  },
  {
   "cell_type": "code",
   "execution_count": 23,
   "id": "eda2dd71",
   "metadata": {},
   "outputs": [
    {
     "name": "stdout",
     "output_type": "stream",
     "text": [
      "Audi\n",
      "BMW\n",
      "Merc\n"
     ]
    }
   ],
   "source": [
    "#values\n",
    "\n",
    "for x in my_dict.values():\n",
    "    print(x)\n"
   ]
  },
  {
   "cell_type": "code",
   "execution_count": 24,
   "id": "674a903a",
   "metadata": {},
   "outputs": [
    {
     "name": "stdout",
     "output_type": "stream",
     "text": [
      "('car1', 'Audi')\n",
      "('car2', 'BMW')\n",
      "('car3', 'Merc')\n"
     ]
    }
   ],
   "source": [
    "#items\n",
    "\n",
    "for x in my_dict.items():\n",
    "    print(x)"
   ]
  },
  {
   "cell_type": "code",
   "execution_count": 25,
   "id": "fc520e81",
   "metadata": {},
   "outputs": [],
   "source": [
    "#Adding items in Dict\n",
    "\n",
    "my_dict['car4'] = 'Volvo'"
   ]
  },
  {
   "cell_type": "code",
   "execution_count": 26,
   "id": "23cac5e7",
   "metadata": {},
   "outputs": [
    {
     "data": {
      "text/plain": [
       "{'car1': 'Audi', 'car2': 'BMW', 'car3': 'Merc', 'car4': 'Volvo'}"
      ]
     },
     "execution_count": 26,
     "metadata": {},
     "output_type": "execute_result"
    }
   ],
   "source": [
    "my_dict"
   ]
  },
  {
   "cell_type": "code",
   "execution_count": 28,
   "id": "7009d64b",
   "metadata": {},
   "outputs": [
    {
     "data": {
      "text/plain": [
       "{'car1': 'Audi', 'car2': 'Merc', 'car3': 'Merc', 'car4': 'Volvo'}"
      ]
     },
     "execution_count": 28,
     "metadata": {},
     "output_type": "execute_result"
    }
   ],
   "source": [
    "my_dict['car2'] = 'Merc' #previous value overridden by new value\n",
    "my_dict"
   ]
  },
  {
   "cell_type": "markdown",
   "id": "029d40e2",
   "metadata": {},
   "source": [
    "### NESTED DICTIONARIES"
   ]
  },
  {
   "cell_type": "code",
   "execution_count": 29,
   "id": "3dbdba1b",
   "metadata": {},
   "outputs": [],
   "source": [
    "car1_model = {'Merc':1960}\n",
    "car2_model = {'BMW':1970}\n",
    "car3_model = {'Volvo':1980}\n",
    "\n",
    "car_type = {'car1':car1_model, 'car2':car2_model, 'car3':car3_model}"
   ]
  },
  {
   "cell_type": "code",
   "execution_count": 30,
   "id": "bfe08d89",
   "metadata": {},
   "outputs": [
    {
     "data": {
      "text/plain": [
       "{'car1': {'Merc': 1960}, 'car2': {'BMW': 1970}, 'car3': {'Volvo': 1980}}"
      ]
     },
     "execution_count": 30,
     "metadata": {},
     "output_type": "execute_result"
    }
   ],
   "source": [
    "car_type"
   ]
  },
  {
   "cell_type": "code",
   "execution_count": 31,
   "id": "9f0696f5",
   "metadata": {},
   "outputs": [
    {
     "name": "stdout",
     "output_type": "stream",
     "text": [
      "{'Merc': 1960}\n"
     ]
    }
   ],
   "source": [
    "print(car_type['car1'])"
   ]
  },
  {
   "cell_type": "code",
   "execution_count": 32,
   "id": "3ac596dd",
   "metadata": {},
   "outputs": [
    {
     "name": "stdout",
     "output_type": "stream",
     "text": [
      "1970\n"
     ]
    }
   ],
   "source": [
    "print(car_type['car2']['BMW'])"
   ]
  },
  {
   "cell_type": "markdown",
   "id": "b05d5726",
   "metadata": {},
   "source": [
    "# TUPLES"
   ]
  },
  {
   "cell_type": "code",
   "execution_count": null,
   "id": "58a0d809",
   "metadata": {},
   "outputs": [],
   "source": [
    "-Immtable\n",
    "-Does not support item assignment\n",
    "-Supports Indexing"
   ]
  },
  {
   "cell_type": "code",
   "execution_count": 33,
   "id": "f5f9f731",
   "metadata": {},
   "outputs": [],
   "source": [
    "my_tuple = ('Vaibhav','M','Desai')\n"
   ]
  },
  {
   "cell_type": "code",
   "execution_count": 34,
   "id": "bd849593",
   "metadata": {},
   "outputs": [
    {
     "data": {
      "text/plain": [
       "'M'"
      ]
     },
     "execution_count": 34,
     "metadata": {},
     "output_type": "execute_result"
    }
   ],
   "source": [
    "my_tuple[1]"
   ]
  },
  {
   "cell_type": "code",
   "execution_count": 35,
   "id": "cb45a8b0",
   "metadata": {},
   "outputs": [
    {
     "data": {
      "text/plain": [
       "('Desai', 'M', 'Vaibhav')"
      ]
     },
     "execution_count": 35,
     "metadata": {},
     "output_type": "execute_result"
    }
   ],
   "source": [
    "my_tuple[::-1]"
   ]
  },
  {
   "cell_type": "code",
   "execution_count": 36,
   "id": "a1cdb67b",
   "metadata": {},
   "outputs": [
    {
     "data": {
      "text/plain": [
       "1"
      ]
     },
     "execution_count": 36,
     "metadata": {},
     "output_type": "execute_result"
    }
   ],
   "source": [
    "my_tuple.count('M')"
   ]
  },
  {
   "cell_type": "code",
   "execution_count": 37,
   "id": "b2f298d5",
   "metadata": {},
   "outputs": [
    {
     "data": {
      "text/plain": [
       "2"
      ]
     },
     "execution_count": 37,
     "metadata": {},
     "output_type": "execute_result"
    }
   ],
   "source": [
    "my_tuple.index('Desai')"
   ]
  },
  {
   "cell_type": "code",
   "execution_count": null,
   "id": "b7add7d7",
   "metadata": {},
   "outputs": [],
   "source": []
  }
 ],
 "metadata": {
  "kernelspec": {
   "display_name": "Python 3 (ipykernel)",
   "language": "python",
   "name": "python3"
  },
  "language_info": {
   "codemirror_mode": {
    "name": "ipython",
    "version": 3
   },
   "file_extension": ".py",
   "mimetype": "text/x-python",
   "name": "python",
   "nbconvert_exporter": "python",
   "pygments_lexer": "ipython3",
   "version": "3.9.7"
  }
 },
 "nbformat": 4,
 "nbformat_minor": 5
}
