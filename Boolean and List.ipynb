{
 "cells": [
  {
   "cell_type": "code",
   "execution_count": 1,
   "id": "3f0eeb59",
   "metadata": {},
   "outputs": [
    {
     "data": {
      "text/plain": [
       "['False',\n",
       " 'None',\n",
       " 'True',\n",
       " '__peg_parser__',\n",
       " 'and',\n",
       " 'as',\n",
       " 'assert',\n",
       " 'async',\n",
       " 'await',\n",
       " 'break',\n",
       " 'class',\n",
       " 'continue',\n",
       " 'def',\n",
       " 'del',\n",
       " 'elif',\n",
       " 'else',\n",
       " 'except',\n",
       " 'finally',\n",
       " 'for',\n",
       " 'from',\n",
       " 'global',\n",
       " 'if',\n",
       " 'import',\n",
       " 'in',\n",
       " 'is',\n",
       " 'lambda',\n",
       " 'nonlocal',\n",
       " 'not',\n",
       " 'or',\n",
       " 'pass',\n",
       " 'raise',\n",
       " 'return',\n",
       " 'try',\n",
       " 'while',\n",
       " 'with',\n",
       " 'yield']"
      ]
     },
     "execution_count": 1,
     "metadata": {},
     "output_type": "execute_result"
    }
   ],
   "source": [
    "import keyword\n",
    "keyword.kwlist"
   ]
  },
  {
   "cell_type": "markdown",
   "id": "399a5d43",
   "metadata": {},
   "source": [
    "# Boolean Operations"
   ]
  },
  {
   "cell_type": "code",
   "execution_count": 7,
   "id": "b5b14935",
   "metadata": {},
   "outputs": [],
   "source": [
    "my_name = 'VaibhavdesAi'"
   ]
  },
  {
   "cell_type": "code",
   "execution_count": 11,
   "id": "6cf47cab",
   "metadata": {},
   "outputs": [
    {
     "name": "stdout",
     "output_type": "stream",
     "text": [
      "True\n",
      "True\n",
      "False\n",
      "True\n",
      "False\n",
      "False\n",
      "False\n",
      "True\n"
     ]
    }
   ],
   "source": [
    "print(my_name.isalpha())\n",
    "print(my_name.isalnum())\n",
    "print(my_name.isdigit())\n",
    "print(my_name.istitle())\n",
    "print(my_name.isupper())\n",
    "print(my_name.islower())\n",
    "print(my_name.startswith('v')) #case sensitive\n",
    "print(my_name.endswith('i'))"
   ]
  },
  {
   "cell_type": "markdown",
   "id": "1c12e04b",
   "metadata": {},
   "source": [
    "# Lists"
   ]
  },
  {
   "cell_type": "markdown",
   "id": "6629a78a",
   "metadata": {},
   "source": [
    "-Mutable or changeable ordered sequence of Elements\n",
    "-Can accepts different data types\n",
    "-Supports Indexing"
   ]
  },
  {
   "cell_type": "code",
   "execution_count": 14,
   "id": "82f95d89",
   "metadata": {},
   "outputs": [],
   "source": [
    "#Indexing\n",
    "\n",
    "l = [10,20,6,4,75,6]\n"
   ]
  },
  {
   "cell_type": "code",
   "execution_count": 15,
   "id": "3405e5b7",
   "metadata": {},
   "outputs": [
    {
     "data": {
      "text/plain": [
       "[10, 20, 6, 4, 75]"
      ]
     },
     "execution_count": 15,
     "metadata": {},
     "output_type": "execute_result"
    }
   ],
   "source": [
    "l[:-1]"
   ]
  },
  {
   "cell_type": "code",
   "execution_count": 17,
   "id": "d94b5d7b",
   "metadata": {},
   "outputs": [
    {
     "data": {
      "text/plain": [
       "[20, 6, 4]"
      ]
     },
     "execution_count": 17,
     "metadata": {},
     "output_type": "execute_result"
    }
   ],
   "source": [
    "l[1:4]"
   ]
  },
  {
   "cell_type": "code",
   "execution_count": 18,
   "id": "d97073ef",
   "metadata": {},
   "outputs": [
    {
     "data": {
      "text/plain": [
       "[10, 20, 6, 4, 75, 6]"
      ]
     },
     "execution_count": 18,
     "metadata": {},
     "output_type": "execute_result"
    }
   ],
   "source": [
    "l"
   ]
  },
  {
   "cell_type": "code",
   "execution_count": 19,
   "id": "91410b25",
   "metadata": {},
   "outputs": [
    {
     "data": {
      "text/plain": [
       "list"
      ]
     },
     "execution_count": 19,
     "metadata": {},
     "output_type": "execute_result"
    }
   ],
   "source": [
    "type(l) #datatype"
   ]
  },
  {
   "cell_type": "markdown",
   "id": "683e45c6",
   "metadata": {},
   "source": [
    "## Append(): Append object to the end of the list."
   ]
  },
  {
   "cell_type": "code",
   "execution_count": 20,
   "id": "f392af3b",
   "metadata": {},
   "outputs": [],
   "source": [
    "l.append(7) #inplace"
   ]
  },
  {
   "cell_type": "code",
   "execution_count": 21,
   "id": "1bac735b",
   "metadata": {},
   "outputs": [
    {
     "data": {
      "text/plain": [
       "[10, 20, 6, 4, 75, 6, 7]"
      ]
     },
     "execution_count": 21,
     "metadata": {},
     "output_type": "execute_result"
    }
   ],
   "source": [
    "l"
   ]
  },
  {
   "cell_type": "code",
   "execution_count": 22,
   "id": "db7c6a82",
   "metadata": {},
   "outputs": [
    {
     "data": {
      "text/plain": [
       "[10, 20, 6, 4, 75, 6, 7, [9, 25]]"
      ]
     },
     "execution_count": 22,
     "metadata": {},
     "output_type": "execute_result"
    }
   ],
   "source": [
    "l.append([9,25]) #append as a one element\n",
    "l"
   ]
  },
  {
   "cell_type": "markdown",
   "id": "b12025bc",
   "metadata": {},
   "source": [
    "## Insert():Insert object before index."
   ]
  },
  {
   "cell_type": "code",
   "execution_count": 23,
   "id": "03084638",
   "metadata": {},
   "outputs": [
    {
     "data": {
      "text/plain": [
       "[10, 20, 33, 6, 4, 75, 6, 7, [9, 25]]"
      ]
     },
     "execution_count": 23,
     "metadata": {},
     "output_type": "execute_result"
    }
   ],
   "source": [
    "l.insert(2,33)\n",
    "l"
   ]
  },
  {
   "cell_type": "markdown",
   "id": "25ea139e",
   "metadata": {},
   "source": [
    "## Extend():Extend list by appending elements from the iterable."
   ]
  },
  {
   "cell_type": "code",
   "execution_count": 26,
   "id": "d4b4b3e0",
   "metadata": {},
   "outputs": [
    {
     "data": {
      "text/plain": [
       "[10, 20, 33, 6, 4, 75, 6, 7, [9, 25], 79]"
      ]
     },
     "execution_count": 26,
     "metadata": {},
     "output_type": "execute_result"
    }
   ],
   "source": [
    "l.extend([79])\n",
    "l"
   ]
  },
  {
   "cell_type": "code",
   "execution_count": 27,
   "id": "baf2499f",
   "metadata": {},
   "outputs": [
    {
     "data": {
      "text/plain": [
       "[10, 20, 33, 6, 4, 75, 6, 7, [9, 25], 79, 23, 54]"
      ]
     },
     "execution_count": 27,
     "metadata": {},
     "output_type": "execute_result"
    }
   ],
   "source": [
    "l.extend([23,54])\n",
    "l"
   ]
  },
  {
   "cell_type": "markdown",
   "id": "b0e137a9",
   "metadata": {},
   "source": [
    "## pop():Remove and return item at index (default last)."
   ]
  },
  {
   "cell_type": "code",
   "execution_count": 28,
   "id": "cfd242a2",
   "metadata": {},
   "outputs": [
    {
     "data": {
      "text/plain": [
       "54"
      ]
     },
     "execution_count": 28,
     "metadata": {},
     "output_type": "execute_result"
    }
   ],
   "source": [
    "l.pop()"
   ]
  },
  {
   "cell_type": "code",
   "execution_count": 29,
   "id": "a35ad961",
   "metadata": {},
   "outputs": [
    {
     "data": {
      "text/plain": [
       "[10, 20, 33, 6, 4, 75, 6, 7, [9, 25], 79, 23]"
      ]
     },
     "execution_count": 29,
     "metadata": {},
     "output_type": "execute_result"
    }
   ],
   "source": [
    "l"
   ]
  },
  {
   "cell_type": "code",
   "execution_count": 30,
   "id": "84879e75",
   "metadata": {},
   "outputs": [
    {
     "data": {
      "text/plain": [
       "20"
      ]
     },
     "execution_count": 30,
     "metadata": {},
     "output_type": "execute_result"
    }
   ],
   "source": [
    "l.pop(1)"
   ]
  },
  {
   "cell_type": "code",
   "execution_count": 31,
   "id": "acceef6a",
   "metadata": {},
   "outputs": [
    {
     "data": {
      "text/plain": [
       "[10, 33, 6, 4, 75, 6, 7, [9, 25], 79, 23]"
      ]
     },
     "execution_count": 31,
     "metadata": {},
     "output_type": "execute_result"
    }
   ],
   "source": [
    "l"
   ]
  },
  {
   "cell_type": "markdown",
   "id": "07c701c7",
   "metadata": {},
   "source": [
    "## count():Return number of occurrences of value."
   ]
  },
  {
   "cell_type": "code",
   "execution_count": 32,
   "id": "1dd884db",
   "metadata": {},
   "outputs": [
    {
     "data": {
      "text/plain": [
       "1"
      ]
     },
     "execution_count": 32,
     "metadata": {},
     "output_type": "execute_result"
    }
   ],
   "source": [
    "l.count(33)"
   ]
  },
  {
   "cell_type": "markdown",
   "id": "d0074725",
   "metadata": {},
   "source": [
    "## index():Return first index of value."
   ]
  },
  {
   "cell_type": "code",
   "execution_count": 33,
   "id": "c37f85a5",
   "metadata": {},
   "outputs": [
    {
     "data": {
      "text/plain": [
       "2"
      ]
     },
     "execution_count": 33,
     "metadata": {},
     "output_type": "execute_result"
    }
   ],
   "source": [
    "l.index(6)"
   ]
  },
  {
   "cell_type": "code",
   "execution_count": 34,
   "id": "d92445dd",
   "metadata": {},
   "outputs": [
    {
     "data": {
      "text/plain": [
       "[23, 79, [9, 25], 7, 6, 75, 4, 6, 33, 10]"
      ]
     },
     "execution_count": 34,
     "metadata": {},
     "output_type": "execute_result"
    }
   ],
   "source": [
    "l[::-1]"
   ]
  },
  {
   "cell_type": "code",
   "execution_count": 37,
   "id": "3dfbf62e",
   "metadata": {},
   "outputs": [
    {
     "data": {
      "text/plain": [
       "[10, 33, 6, 4, 75, 6, 7, [9, 25], 79, 23]"
      ]
     },
     "execution_count": 37,
     "metadata": {},
     "output_type": "execute_result"
    }
   ],
   "source": [
    "l"
   ]
  },
  {
   "cell_type": "code",
   "execution_count": 39,
   "id": "899536cc",
   "metadata": {},
   "outputs": [
    {
     "data": {
      "text/plain": [
       "[33, 75, [9, 25]]"
      ]
     },
     "execution_count": 39,
     "metadata": {},
     "output_type": "execute_result"
    }
   ],
   "source": [
    "l[1::3]"
   ]
  },
  {
   "cell_type": "code",
   "execution_count": null,
   "id": "bc4e2c49",
   "metadata": {},
   "outputs": [],
   "source": []
  },
  {
   "cell_type": "code",
   "execution_count": null,
   "id": "75386cb7",
   "metadata": {},
   "outputs": [],
   "source": []
  }
 ],
 "metadata": {
  "kernelspec": {
   "display_name": "Python 3 (ipykernel)",
   "language": "python",
   "name": "python3"
  },
  "language_info": {
   "codemirror_mode": {
    "name": "ipython",
    "version": 3
   },
   "file_extension": ".py",
   "mimetype": "text/x-python",
   "name": "python",
   "nbconvert_exporter": "python",
   "pygments_lexer": "ipython3",
   "version": "3.9.7"
  }
 },
 "nbformat": 4,
 "nbformat_minor": 5
}
