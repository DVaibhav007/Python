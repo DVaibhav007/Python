{
 "cells": [
  {
   "cell_type": "markdown",
   "id": "e8336133",
   "metadata": {},
   "source": [
    "## Public : We can access/modify from anywhere"
   ]
  },
  {
   "cell_type": "code",
   "execution_count": 1,
   "id": "0c1b709c",
   "metadata": {},
   "outputs": [],
   "source": [
    "#This all are public variables\n",
    "\n",
    "class Car():\n",
    "    def __init__(self,windows,doors,enginetype):\n",
    "        \n",
    "        self.windows = windows\n",
    "        self.doors =doors\n",
    "        self.enginetype = enginetype\n",
    "        "
   ]
  },
  {
   "cell_type": "code",
   "execution_count": 2,
   "id": "1e599a3b",
   "metadata": {},
   "outputs": [],
   "source": [
    "car = Car(4,5,\"Petrol\")"
   ]
  },
  {
   "cell_type": "code",
   "execution_count": 3,
   "id": "7798ae39",
   "metadata": {},
   "outputs": [
    {
     "data": {
      "text/plain": [
       "4"
      ]
     },
     "execution_count": 3,
     "metadata": {},
     "output_type": "execute_result"
    }
   ],
   "source": [
    "car.windows"
   ]
  },
  {
   "cell_type": "code",
   "execution_count": 4,
   "id": "cf6168da",
   "metadata": {},
   "outputs": [],
   "source": [
    "car.windows=5 #we can override directly in case of public variables"
   ]
  },
  {
   "cell_type": "code",
   "execution_count": 5,
   "id": "73b6e261",
   "metadata": {},
   "outputs": [
    {
     "data": {
      "text/plain": [
       "5"
      ]
     },
     "execution_count": 5,
     "metadata": {},
     "output_type": "execute_result"
    }
   ],
   "source": [
    "car.windows"
   ]
  },
  {
   "cell_type": "markdown",
   "id": "b8727190",
   "metadata": {},
   "source": [
    "## Protected : Can access,modify it only from subclass"
   ]
  },
  {
   "cell_type": "code",
   "execution_count": 14,
   "id": "af664913",
   "metadata": {},
   "outputs": [],
   "source": [
    "class Car():\n",
    "    def __init__(self,windows,doors,enginetype):\n",
    "        \n",
    "        self._windows = windows\n",
    "        self._doors =doors\n",
    "        self._enginetype = enginetype"
   ]
  },
  {
   "cell_type": "code",
   "execution_count": 15,
   "id": "74c6a80b",
   "metadata": {},
   "outputs": [],
   "source": [
    "class Truck(Car):\n",
    "    def __init__(self,windows,doors,enginetype,hp):\n",
    "        super().__init__(windows,doors,enginetype)\n",
    "        self.hp=hp"
   ]
  },
  {
   "cell_type": "code",
   "execution_count": 16,
   "id": "fb3654a2",
   "metadata": {},
   "outputs": [],
   "source": [
    "truck = Truck(3,2,\"Diesel\",500)"
   ]
  },
  {
   "cell_type": "code",
   "execution_count": 17,
   "id": "dcc2b9a7",
   "metadata": {},
   "outputs": [
    {
     "data": {
      "text/plain": [
       "['__class__',\n",
       " '__delattr__',\n",
       " '__dict__',\n",
       " '__dir__',\n",
       " '__doc__',\n",
       " '__eq__',\n",
       " '__format__',\n",
       " '__ge__',\n",
       " '__getattribute__',\n",
       " '__gt__',\n",
       " '__hash__',\n",
       " '__init__',\n",
       " '__init_subclass__',\n",
       " '__le__',\n",
       " '__lt__',\n",
       " '__module__',\n",
       " '__ne__',\n",
       " '__new__',\n",
       " '__reduce__',\n",
       " '__reduce_ex__',\n",
       " '__repr__',\n",
       " '__setattr__',\n",
       " '__sizeof__',\n",
       " '__str__',\n",
       " '__subclasshook__',\n",
       " '__weakref__',\n",
       " '_doors',\n",
       " '_enginetype',\n",
       " '_windows',\n",
       " 'hp']"
      ]
     },
     "execution_count": 17,
     "metadata": {},
     "output_type": "execute_result"
    }
   ],
   "source": [
    "dir(truck)"
   ]
  },
  {
   "cell_type": "code",
   "execution_count": 18,
   "id": "79fa992a",
   "metadata": {},
   "outputs": [
    {
     "data": {
      "text/plain": [
       "2"
      ]
     },
     "execution_count": 18,
     "metadata": {},
     "output_type": "execute_result"
    }
   ],
   "source": [
    "truck._doors"
   ]
  },
  {
   "cell_type": "code",
   "execution_count": 21,
   "id": "15a7c920",
   "metadata": {},
   "outputs": [],
   "source": [
    "truck._doors = 4 # In protected we can override only in subclass"
   ]
  },
  {
   "cell_type": "code",
   "execution_count": 20,
   "id": "1903a186",
   "metadata": {},
   "outputs": [
    {
     "data": {
      "text/plain": [
       "4"
      ]
     },
     "execution_count": 20,
     "metadata": {},
     "output_type": "execute_result"
    }
   ],
   "source": [
    "truck._doors"
   ]
  },
  {
   "cell_type": "markdown",
   "id": "c99e0fdd",
   "metadata": {},
   "source": [
    "## Private  : Cannot be accessed /Modified"
   ]
  },
  {
   "cell_type": "code",
   "execution_count": 22,
   "id": "c9848d88",
   "metadata": {},
   "outputs": [],
   "source": [
    "class Car():\n",
    "    def __init__(self,windows,doors,enginetype):\n",
    "        \n",
    "        self.__windows = windows\n",
    "        self.__doors =doors\n",
    "        self.__enginetype = enginetype"
   ]
  },
  {
   "cell_type": "code",
   "execution_count": 23,
   "id": "f7e2e9a0",
   "metadata": {},
   "outputs": [],
   "source": [
    "car = Car(2,2,\"Petrol\")"
   ]
  },
  {
   "cell_type": "code",
   "execution_count": 24,
   "id": "2c01eed5",
   "metadata": {},
   "outputs": [
    {
     "data": {
      "text/plain": [
       "['_Car__doors',\n",
       " '_Car__enginetype',\n",
       " '_Car__windows',\n",
       " '__class__',\n",
       " '__delattr__',\n",
       " '__dict__',\n",
       " '__dir__',\n",
       " '__doc__',\n",
       " '__eq__',\n",
       " '__format__',\n",
       " '__ge__',\n",
       " '__getattribute__',\n",
       " '__gt__',\n",
       " '__hash__',\n",
       " '__init__',\n",
       " '__init_subclass__',\n",
       " '__le__',\n",
       " '__lt__',\n",
       " '__module__',\n",
       " '__ne__',\n",
       " '__new__',\n",
       " '__reduce__',\n",
       " '__reduce_ex__',\n",
       " '__repr__',\n",
       " '__setattr__',\n",
       " '__sizeof__',\n",
       " '__str__',\n",
       " '__subclasshook__',\n",
       " '__weakref__']"
      ]
     },
     "execution_count": 24,
     "metadata": {},
     "output_type": "execute_result"
    }
   ],
   "source": [
    "dir(car) #we can modified it in python but not in other programming language... in python we get a hint that this hsould not be modified"
   ]
  },
  {
   "cell_type": "code",
   "execution_count": null,
   "id": "5f8faaf0",
   "metadata": {},
   "outputs": [],
   "source": []
  }
 ],
 "metadata": {
  "kernelspec": {
   "display_name": "Python 3 (ipykernel)",
   "language": "python",
   "name": "python3"
  },
  "language_info": {
   "codemirror_mode": {
    "name": "ipython",
    "version": 3
   },
   "file_extension": ".py",
   "mimetype": "text/x-python",
   "name": "python",
   "nbconvert_exporter": "python",
   "pygments_lexer": "ipython3",
   "version": "3.9.7"
  }
 },
 "nbformat": 4,
 "nbformat_minor": 5
}
