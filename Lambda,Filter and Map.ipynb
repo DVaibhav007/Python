{
 "cells": [
  {
   "cell_type": "markdown",
   "id": "93634b83",
   "metadata": {},
   "source": [
    "## Lambda"
   ]
  },
  {
   "cell_type": "markdown",
   "id": "a5eadfbe",
   "metadata": {},
   "source": [
    "- Nameless Function\n",
    "- Anonymus Function"
   ]
  },
  {
   "cell_type": "code",
   "execution_count": 1,
   "id": "12492440",
   "metadata": {},
   "outputs": [],
   "source": [
    "#lets Try with normal function\n",
    "\n",
    "def add(a,b):\n",
    "    return a+b"
   ]
  },
  {
   "cell_type": "code",
   "execution_count": 2,
   "id": "cf08072b",
   "metadata": {},
   "outputs": [
    {
     "data": {
      "text/plain": [
       "65"
      ]
     },
     "execution_count": 2,
     "metadata": {},
     "output_type": "execute_result"
    }
   ],
   "source": [
    "add(4,61)"
   ]
  },
  {
   "cell_type": "code",
   "execution_count": 3,
   "id": "b26232aa",
   "metadata": {},
   "outputs": [],
   "source": [
    "#lets try with lambda function\n",
    "\n",
    "add = lambda a,b : a+b\n",
    "\n",
    "#lambda 'input var' : expression(defination)...actually it is used for 1 line code"
   ]
  },
  {
   "cell_type": "code",
   "execution_count": 5,
   "id": "23cffeb6",
   "metadata": {},
   "outputs": [
    {
     "data": {
      "text/plain": [
       "150"
      ]
     },
     "execution_count": 5,
     "metadata": {},
     "output_type": "execute_result"
    }
   ],
   "source": [
    "add(65,85)"
   ]
  },
  {
   "cell_type": "code",
   "execution_count": 9,
   "id": "351086b5",
   "metadata": {},
   "outputs": [],
   "source": [
    "def even(num):\n",
    "    if num %2 ==0:\n",
    "        return True\n",
    "    else:\n",
    "        return False"
   ]
  },
  {
   "cell_type": "code",
   "execution_count": 7,
   "id": "454c04a0",
   "metadata": {},
   "outputs": [
    {
     "data": {
      "text/plain": [
       "True"
      ]
     },
     "execution_count": 7,
     "metadata": {},
     "output_type": "execute_result"
    }
   ],
   "source": [
    "even(26)"
   ]
  },
  {
   "cell_type": "code",
   "execution_count": 10,
   "id": "064cd8c4",
   "metadata": {},
   "outputs": [
    {
     "data": {
      "text/plain": [
       "False"
      ]
     },
     "execution_count": 10,
     "metadata": {},
     "output_type": "execute_result"
    }
   ],
   "source": [
    "even(45)"
   ]
  },
  {
   "cell_type": "code",
   "execution_count": 14,
   "id": "6697e664",
   "metadata": {},
   "outputs": [],
   "source": [
    "even1 = lambda n : n%2==0 "
   ]
  },
  {
   "cell_type": "code",
   "execution_count": 16,
   "id": "3fa5563d",
   "metadata": {},
   "outputs": [
    {
     "data": {
      "text/plain": [
       "False"
      ]
     },
     "execution_count": 16,
     "metadata": {},
     "output_type": "execute_result"
    }
   ],
   "source": [
    "even1(33)"
   ]
  },
  {
   "cell_type": "code",
   "execution_count": 17,
   "id": "f39e33ea",
   "metadata": {},
   "outputs": [
    {
     "data": {
      "text/plain": [
       "True"
      ]
     },
     "execution_count": 17,
     "metadata": {},
     "output_type": "execute_result"
    }
   ],
   "source": [
    "even1 (44)"
   ]
  },
  {
   "cell_type": "code",
   "execution_count": 27,
   "id": "a1662789",
   "metadata": {},
   "outputs": [],
   "source": [
    "#######################################################"
   ]
  },
  {
   "cell_type": "markdown",
   "id": "365964fa",
   "metadata": {},
   "source": [
    "## MAP"
   ]
  },
  {
   "cell_type": "markdown",
   "id": "576a4f92",
   "metadata": {},
   "source": [
    "- It fetches every element "
   ]
  },
  {
   "cell_type": "code",
   "execution_count": 18,
   "id": "1bc8434a",
   "metadata": {},
   "outputs": [],
   "source": [
    "def Evenodd(num):\n",
    "    if num %2 == 0:\n",
    "        return \"The number {} is an Even Number\".format(num)\n",
    "    else:\n",
    "        return \"The number {} is an Odd Number\".format(num)"
   ]
  },
  {
   "cell_type": "code",
   "execution_count": 19,
   "id": "37203753",
   "metadata": {},
   "outputs": [
    {
     "data": {
      "text/plain": [
       "'The number 54 is an Even Number'"
      ]
     },
     "execution_count": 19,
     "metadata": {},
     "output_type": "execute_result"
    }
   ],
   "source": [
    "Evenodd(54)"
   ]
  },
  {
   "cell_type": "code",
   "execution_count": 20,
   "id": "44fd9351",
   "metadata": {},
   "outputs": [],
   "source": [
    "lst = [16,54,187,26,95,30,53,41]"
   ]
  },
  {
   "cell_type": "code",
   "execution_count": 23,
   "id": "bb147eac",
   "metadata": {},
   "outputs": [
    {
     "data": {
      "text/plain": [
       "['The number 16 is an Even Number',\n",
       " 'The number 54 is an Even Number',\n",
       " 'The number 187 is an Odd Number',\n",
       " 'The number 26 is an Even Number',\n",
       " 'The number 95 is an Odd Number',\n",
       " 'The number 30 is an Even Number',\n",
       " 'The number 53 is an Odd Number',\n",
       " 'The number 41 is an Odd Number']"
      ]
     },
     "execution_count": 23,
     "metadata": {},
     "output_type": "execute_result"
    }
   ],
   "source": [
    "list(map(Evenodd,lst))"
   ]
  },
  {
   "cell_type": "code",
   "execution_count": 24,
   "id": "82b8552c",
   "metadata": {},
   "outputs": [],
   "source": [
    "#by using lambda function\n",
    "\n",
    "Eveno = lambda x : x%2==0"
   ]
  },
  {
   "cell_type": "code",
   "execution_count": 25,
   "id": "200b3613",
   "metadata": {},
   "outputs": [
    {
     "data": {
      "text/plain": [
       "[True, True, False, True, False, True, False, False]"
      ]
     },
     "execution_count": 25,
     "metadata": {},
     "output_type": "execute_result"
    }
   ],
   "source": [
    "list(map(Eveno,lst)) #syntax.... map(function,iterable)"
   ]
  },
  {
   "cell_type": "code",
   "execution_count": 26,
   "id": "78d9e437",
   "metadata": {},
   "outputs": [],
   "source": [
    "#########################################################"
   ]
  },
  {
   "cell_type": "markdown",
   "id": "1ae6b57f",
   "metadata": {},
   "source": [
    "### Filter"
   ]
  },
  {
   "cell_type": "markdown",
   "id": "545a8dff",
   "metadata": {},
   "source": [
    "- It filters and reurns only those values for whom condition is true"
   ]
  },
  {
   "cell_type": "code",
   "execution_count": 28,
   "id": "9ee77597",
   "metadata": {},
   "outputs": [],
   "source": [
    "lst=[25,66,48,3,9,7,56,15,32,4651,343,442]"
   ]
  },
  {
   "cell_type": "code",
   "execution_count": 29,
   "id": "7e5fb71c",
   "metadata": {},
   "outputs": [
    {
     "data": {
      "text/plain": [
       "[66, 48, 56, 32, 442]"
      ]
     },
     "execution_count": 29,
     "metadata": {},
     "output_type": "execute_result"
    }
   ],
   "source": [
    "list(filter(lambda n : n %2 == 0,lst))"
   ]
  },
  {
   "cell_type": "code",
   "execution_count": null,
   "id": "c1e29435",
   "metadata": {},
   "outputs": [],
   "source": []
  }
 ],
 "metadata": {
  "kernelspec": {
   "display_name": "Python 3 (ipykernel)",
   "language": "python",
   "name": "python3"
  },
  "language_info": {
   "codemirror_mode": {
    "name": "ipython",
    "version": 3
   },
   "file_extension": ".py",
   "mimetype": "text/x-python",
   "name": "python",
   "nbconvert_exporter": "python",
   "pygments_lexer": "ipython3",
   "version": "3.9.7"
  }
 },
 "nbformat": 4,
 "nbformat_minor": 5
}
