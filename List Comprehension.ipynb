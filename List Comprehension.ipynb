{
 "cells": [
  {
   "cell_type": "markdown",
   "id": "171f4ec3",
   "metadata": {},
   "source": [
    "# LIST COMPREHENSION"
   ]
  },
  {
   "cell_type": "markdown",
   "id": "f40330b4",
   "metadata": {},
   "source": [
    "- It is a concise way to create a list.\n",
    "- It consists brackets containing expressions followed by a for clause,then zero or more for clauses, if clauses.\n"
   ]
  },
  {
   "cell_type": "code",
   "execution_count": 1,
   "id": "46725285",
   "metadata": {},
   "outputs": [],
   "source": [
    "lst1 = []\n",
    "def square(lst):\n",
    "    for i in lst:\n",
    "        lst1.append(i*i)\n",
    "    return lst1"
   ]
  },
  {
   "cell_type": "code",
   "execution_count": 6,
   "id": "5c106d89",
   "metadata": {},
   "outputs": [],
   "source": [
    "lst = [2,56,8,41,36,22,85,17,53,26]"
   ]
  },
  {
   "cell_type": "code",
   "execution_count": 7,
   "id": "193d6af8",
   "metadata": {},
   "outputs": [
    {
     "data": {
      "text/plain": [
       "[4,\n",
       " 3136,\n",
       " 64,\n",
       " 1681,\n",
       " 1296,\n",
       " 484,\n",
       " 4,\n",
       " 3136,\n",
       " 64,\n",
       " 1681,\n",
       " 1296,\n",
       " 484,\n",
       " 7225,\n",
       " 289,\n",
       " 2809,\n",
       " 676]"
      ]
     },
     "execution_count": 7,
     "metadata": {},
     "output_type": "execute_result"
    }
   ],
   "source": [
    "square(lst) #this seems very lenghty code"
   ]
  },
  {
   "cell_type": "code",
   "execution_count": 8,
   "id": "a67b2060",
   "metadata": {},
   "outputs": [
    {
     "data": {
      "text/plain": [
       "[4, 3136, 64, 1681, 1296, 484, 7225, 289, 2809, 676]"
      ]
     },
     "execution_count": 8,
     "metadata": {},
     "output_type": "execute_result"
    }
   ],
   "source": [
    "#so here is magic of List Comprehension\n",
    "# [expression(what we want) for i in lst]\n",
    "\n",
    "\n",
    "[i*i for i in lst] "
   ]
  },
  {
   "cell_type": "code",
   "execution_count": 10,
   "id": "c118c22e",
   "metadata": {},
   "outputs": [
    {
     "data": {
      "text/plain": [
       "[1681, 7225, 289, 2809]"
      ]
     },
     "execution_count": 10,
     "metadata": {},
     "output_type": "execute_result"
    }
   ],
   "source": [
    "#now i want square od only even or odd numbers from given list\n",
    "\n",
    "#[i*i for i in lst if i %2 == 0] .... Even\n",
    "[i*i for i in lst if i %2 != 0]"
   ]
  },
  {
   "cell_type": "code",
   "execution_count": 11,
   "id": "f113a46f",
   "metadata": {},
   "outputs": [],
   "source": [
    "#######################################"
   ]
  },
  {
   "cell_type": "code",
   "execution_count": 13,
   "id": "09eef063",
   "metadata": {},
   "outputs": [
    {
     "data": {
      "text/plain": [
       "['a', 'i', 'a', 'E', 'A', 'I']"
      ]
     },
     "execution_count": 13,
     "metadata": {},
     "output_type": "execute_result"
    }
   ],
   "source": [
    "name  = \"Vaibhav DESAI\"\n",
    "vowels = list('aeiouAEIOU')\n",
    "\n",
    "[i for i in name if i in vowels]"
   ]
  },
  {
   "cell_type": "code",
   "execution_count": 14,
   "id": "67b39f0e",
   "metadata": {},
   "outputs": [],
   "source": [
    "###################################"
   ]
  },
  {
   "cell_type": "code",
   "execution_count": 19,
   "id": "74cfe3f7",
   "metadata": {},
   "outputs": [
    {
     "name": "stdout",
     "output_type": "stream",
     "text": [
      "['*']\n",
      "['*', '*']\n",
      "['*', '*', '*']\n",
      "['*', '*', '*', '*']\n",
      "['*', '*', '*', '*', '*']\n",
      "['*', '*', '*', '*', '*', '*']\n",
      "['*', '*', '*', '*', '*', '*', '*']\n"
     ]
    }
   ],
   "source": [
    "a = ['*','*','*','*','*','*','*']\n",
    "b =[]\n",
    "\n",
    "for i in a:\n",
    "    b.append(i)\n",
    "    print(b)\n",
    "    "
   ]
  },
  {
   "cell_type": "code",
   "execution_count": null,
   "id": "c6d5bfc3",
   "metadata": {},
   "outputs": [],
   "source": []
  }
 ],
 "metadata": {
  "kernelspec": {
   "display_name": "Python 3 (ipykernel)",
   "language": "python",
   "name": "python3"
  },
  "language_info": {
   "codemirror_mode": {
    "name": "ipython",
    "version": 3
   },
   "file_extension": ".py",
   "mimetype": "text/x-python",
   "name": "python",
   "nbconvert_exporter": "python",
   "pygments_lexer": "ipython3",
   "version": "3.9.7"
  }
 },
 "nbformat": 4,
 "nbformat_minor": 5
}
